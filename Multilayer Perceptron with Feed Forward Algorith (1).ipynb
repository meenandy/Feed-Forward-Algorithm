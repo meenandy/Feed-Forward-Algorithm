{
 "cells": [
  {
   "cell_type": "code",
   "execution_count": 6,
   "metadata": {},
   "outputs": [
    {
     "data": {
      "text/html": [
       "<div>\n",
       "<style scoped>\n",
       "    .dataframe tbody tr th:only-of-type {\n",
       "        vertical-align: middle;\n",
       "    }\n",
       "\n",
       "    .dataframe tbody tr th {\n",
       "        vertical-align: top;\n",
       "    }\n",
       "\n",
       "    .dataframe thead th {\n",
       "        text-align: right;\n",
       "    }\n",
       "</style>\n",
       "<table border=\"1\" class=\"dataframe\">\n",
       "  <thead>\n",
       "    <tr style=\"text-align: right;\">\n",
       "      <th></th>\n",
       "      <th>PassengerId</th>\n",
       "      <th>Survived</th>\n",
       "      <th>Pclass</th>\n",
       "      <th>Name</th>\n",
       "      <th>Sex</th>\n",
       "      <th>Age</th>\n",
       "      <th>SibSp</th>\n",
       "      <th>Parch</th>\n",
       "      <th>Ticket</th>\n",
       "      <th>Fare</th>\n",
       "      <th>Cabin</th>\n",
       "      <th>Embarked</th>\n",
       "    </tr>\n",
       "  </thead>\n",
       "  <tbody>\n",
       "    <tr>\n",
       "      <td>0</td>\n",
       "      <td>1</td>\n",
       "      <td>0</td>\n",
       "      <td>3</td>\n",
       "      <td>Braund, Mr. Owen Harris</td>\n",
       "      <td>male</td>\n",
       "      <td>22.0</td>\n",
       "      <td>1</td>\n",
       "      <td>0</td>\n",
       "      <td>A/5 21171</td>\n",
       "      <td>7.2500</td>\n",
       "      <td>NaN</td>\n",
       "      <td>S</td>\n",
       "    </tr>\n",
       "    <tr>\n",
       "      <td>1</td>\n",
       "      <td>2</td>\n",
       "      <td>1</td>\n",
       "      <td>1</td>\n",
       "      <td>Cumings, Mrs. John Bradley (Florence Briggs Th...</td>\n",
       "      <td>female</td>\n",
       "      <td>38.0</td>\n",
       "      <td>1</td>\n",
       "      <td>0</td>\n",
       "      <td>PC 17599</td>\n",
       "      <td>71.2833</td>\n",
       "      <td>C85</td>\n",
       "      <td>C</td>\n",
       "    </tr>\n",
       "    <tr>\n",
       "      <td>2</td>\n",
       "      <td>3</td>\n",
       "      <td>1</td>\n",
       "      <td>3</td>\n",
       "      <td>Heikkinen, Miss. Laina</td>\n",
       "      <td>female</td>\n",
       "      <td>26.0</td>\n",
       "      <td>0</td>\n",
       "      <td>0</td>\n",
       "      <td>STON/O2. 3101282</td>\n",
       "      <td>7.9250</td>\n",
       "      <td>NaN</td>\n",
       "      <td>S</td>\n",
       "    </tr>\n",
       "    <tr>\n",
       "      <td>3</td>\n",
       "      <td>4</td>\n",
       "      <td>1</td>\n",
       "      <td>1</td>\n",
       "      <td>Futrelle, Mrs. Jacques Heath (Lily May Peel)</td>\n",
       "      <td>female</td>\n",
       "      <td>35.0</td>\n",
       "      <td>1</td>\n",
       "      <td>0</td>\n",
       "      <td>113803</td>\n",
       "      <td>53.1000</td>\n",
       "      <td>C123</td>\n",
       "      <td>S</td>\n",
       "    </tr>\n",
       "  </tbody>\n",
       "</table>\n",
       "</div>"
      ],
      "text/plain": [
       "   PassengerId  Survived  Pclass  \\\n",
       "0            1         0       3   \n",
       "1            2         1       1   \n",
       "2            3         1       3   \n",
       "3            4         1       1   \n",
       "\n",
       "                                                Name     Sex   Age  SibSp  \\\n",
       "0                            Braund, Mr. Owen Harris    male  22.0      1   \n",
       "1  Cumings, Mrs. John Bradley (Florence Briggs Th...  female  38.0      1   \n",
       "2                             Heikkinen, Miss. Laina  female  26.0      0   \n",
       "3       Futrelle, Mrs. Jacques Heath (Lily May Peel)  female  35.0      1   \n",
       "\n",
       "   Parch            Ticket     Fare Cabin Embarked  \n",
       "0      0         A/5 21171   7.2500   NaN        S  \n",
       "1      0          PC 17599  71.2833   C85        C  \n",
       "2      0  STON/O2. 3101282   7.9250   NaN        S  \n",
       "3      0            113803  53.1000  C123        S  "
      ]
     },
     "execution_count": 6,
     "metadata": {},
     "output_type": "execute_result"
    }
   ],
   "source": [
    "import numpy as np # linear algebra\n",
    "np.random.seed(10)\n",
    "import pandas as pd # data processing, CSV file I/O (e.g. pd.read_csv)\n",
    "import matplotlib.pyplot as plt\n",
    "import seaborn as sns\n",
    "\n",
    "# Required magic to display matplotlib plots in notebooks\n",
    "%matplotlib inline\n",
    "\n",
    "from sklearn import metrics\n",
    "from sklearn.metrics import accuracy_score, confusion_matrix\n",
    "from sklearn.model_selection import train_test_split\n",
    "\n",
    "# Input data files are available in the \"../input/\" directory.\n",
    "        \n",
    "data = pd.read_csv('train.csv')\n",
    "\n",
    "data.head(4)\n"
   ]
  },
  {
   "cell_type": "code",
   "execution_count": 7,
   "metadata": {},
   "outputs": [],
   "source": [
    "dict_live = { \n",
    "    0 : 'Perished',\n",
    "    1 : 'Survived'\n",
    "}\n",
    "\n",
    "# We define a dictionary to binarize the sex\n",
    "dict_sex = {\n",
    "    'male' : 0,\n",
    "    'female' : 1\n",
    "}\n",
    "\n",
    "# We apply the dictionary using a lambda function and the pandas .apply() module\n",
    "data['Bsex'] = data['Sex'].apply(lambda x : dict_sex[x])\n",
    "\n",
    "\n",
    "# Now the features are a 2 column matrix whose entries are the Class (1,2,3) and the Sex (0,1) of the passengers\n",
    "features = data[['Pclass', 'Bsex']].to_numpy()\n",
    "labels = data['Survived'].to_numpy()"
   ]
  },
  {
   "cell_type": "code",
   "execution_count": 8,
   "metadata": {},
   "outputs": [],
   "source": [
    "# Define the sigmoid activator; we ask if we want the sigmoid or its derivative\n",
    "def sigmoid_act(x, der=False):\n",
    "    import numpy as np\n",
    "    \n",
    "    if (der==True) : #derivative of the sigmoid\n",
    "        f = x/(1-x)\n",
    "    else : # sigmoid\n",
    "        f = 1/(1+ np.exp(-x))\n",
    "    \n",
    "    return f\n",
    "\n",
    "# We may employ the Rectifier Linear Unit (ReLU)\n",
    "def ReLU_act(x, der=False):\n",
    "    import numpy as np\n",
    "    \n",
    "    if (der== True):\n",
    "        if x>0 :\n",
    "            f= 1\n",
    "        else :\n",
    "            f = 0\n",
    "    else :\n",
    "        if x>0:\n",
    "            f = x\n",
    "        else :\n",
    "            f = 0\n",
    "    return f\n",
    "\n",
    "# Now we are ready to define the perceptron; \n",
    "# it eats a np.array (that may be a list of features )\n",
    "def perceptron(X, act='Sigmoid'): \n",
    "    import numpy as np\n",
    "    \n",
    "    shapes = X.shape # Pick the number of (rows, columns)!\n",
    "    n= shapes[0]+shapes[1]\n",
    "    # Generating random weights and bias\n",
    "    w = 2*np.random.random(shapes) - 0.5 # We want w to be between -1 and 1\n",
    "    b = np.random.random(1)\n",
    "    \n",
    "    # Initialize the function\n",
    "    f = b[0]\n",
    "    for i in range(0, X.shape[0]-1) : # run over column elements\n",
    "        for j in range(0, X.shape[1]-1) : # run over rows elements\n",
    "            f += w[i, j]*X[i,j]/n\n",
    "    # Pass it to the activation function and return it as an output\n",
    "    if act == 'Sigmoid':\n",
    "        output = sigmoid_act(f)\n",
    "    else :\n",
    "        output = ReLU_act(f)\n",
    "    return output    "
   ]
  },
  {
   "cell_type": "code",
   "execution_count": 9,
   "metadata": {},
   "outputs": [
    {
     "name": "stdout",
     "output_type": "stream",
     "text": [
      "Output with sigmoid activator:  0.8536800619299082\n",
      "Output with ReLU activator:  0.8515450291672023\n"
     ]
    }
   ],
   "source": [
    "print('Output with sigmoid activator: ', perceptron(features))\n",
    "print('Output with ReLU activator: ', perceptron(features))"
   ]
  },
  {
   "cell_type": "code",
   "execution_count": 10,
   "metadata": {},
   "outputs": [],
   "source": [
    "import numpy as np\n",
    "\n",
    "# Define the sigmoid activator; we ask if we want the sigmoid or its derivative\n",
    "def sigmoid_act(x, der=False):\n",
    "    import numpy as np\n",
    "    \n",
    "    if (der==True) : #derivative of the sigmoid\n",
    "        f = 1/(1+ np.exp(- x))*(1-1/(1+ np.exp(- x)))\n",
    "    else : # sigmoid\n",
    "        f = 1/(1+ np.exp(- x))\n",
    "    \n",
    "    return f\n",
    "\n",
    "# We may employ the Rectifier Linear Unit (ReLU)\n",
    "def ReLU_act(x, der=False):\n",
    "    import numpy as np\n",
    "    \n",
    "    if (der == True): # the derivative of the ReLU is the Heaviside Theta\n",
    "        f = np.heaviside(x, 1)\n",
    "    else :\n",
    "        f = np.maximum(x, 0)\n",
    "    \n",
    "    return f\n"
   ]
  },
  {
   "cell_type": "code",
   "execution_count": 11,
   "metadata": {},
   "outputs": [
    {
     "name": "stdout",
     "output_type": "stream",
     "text": [
      "Training records: 623\n",
      "Test records: 268\n"
     ]
    }
   ],
   "source": [
    "# split into training and testing sets\n",
    "from sklearn.model_selection import train_test_split\n",
    "\n",
    "X_train, X_test, Y_train, Y_test = train_test_split(features, labels, test_size=0.30)\n",
    "\n",
    "print('Training records:',Y_train.size)\n",
    "print('Test records:',Y_test.size)"
   ]
  },
  {
   "cell_type": "code",
   "execution_count": 12,
   "metadata": {},
   "outputs": [
    {
     "data": {
      "image/png": "[encoded data removed]",
      "text/plain": [
       "<Figure size 720x432 with 1 Axes>"
      ]
     },
     "metadata": {
      "needs_background": "light"
     },
     "output_type": "display_data"
    },
    {
     "data": {
      "text/plain": [
       "<Figure size 720x432 with 0 Axes>"
      ]
     },
     "metadata": {},
     "output_type": "display_data"
    },
    {
     "data": {
      "text/plain": [
       "<Figure size 720x432 with 0 Axes>"
      ]
     },
     "metadata": {},
     "output_type": "display_data"
    },
    {
     "data": {
      "text/plain": [
       "<Figure size 720x432 with 0 Axes>"
      ]
     },
     "metadata": {},
     "output_type": "display_data"
    },
    {
     "data": {
      "text/plain": [
       "<Figure size 720x432 with 0 Axes>"
      ]
     },
     "metadata": {},
     "output_type": "display_data"
    },
    {
     "data": {
      "text/plain": [
       "<Figure size 720x432 with 0 Axes>"
      ]
     },
     "metadata": {},
     "output_type": "display_data"
    },
    {
     "data": {
      "text/plain": [
       "<Figure size 720x432 with 0 Axes>"
      ]
     },
     "metadata": {},
     "output_type": "display_data"
    },
    {
     "data": {
      "text/plain": [
       "<Figure size 720x432 with 0 Axes>"
      ]
     },
     "metadata": {},
     "output_type": "display_data"
    },
    {
     "data": {
      "text/plain": [
       "<Figure size 720x432 with 0 Axes>"
      ]
     },
     "metadata": {},
     "output_type": "display_data"
    },
    {
     "data": {
      "image/png": "[encoded data removed]",
      "text/plain": [
       "<Figure size 720x432 with 1 Axes>"
      ]
     },
     "metadata": {
      "needs_background": "light"
     },
     "output_type": "display_data"
    }
   ],
   "source": [
    "# Set up the number of perceptron per each layer:\n",
    "p=4 # Layer 1\n",
    "q=4 # Layer 2\n",
    "\n",
    "# Set up the Learning rate\n",
    "eta =  1/623\n",
    "\n",
    "\n",
    "# 0: Random initialize the relevant data \n",
    "w1 = 2*np.random.rand(p , X_train.shape[1]) - 0.5 # Layer 1\n",
    "b1 = np.random.rand(p)\n",
    "\n",
    "w2 = 2*np.random.rand(q , p) - 0.5  # Layer 2\n",
    "b2 = np.random.rand(q)\n",
    "\n",
    "wOut = 2*np.random.rand(q) - 0.5  # Output Layer\n",
    "bOut = np.random.rand(1)\n",
    "\n",
    "mu = []\n",
    "vec_y = []\n",
    "\n",
    "# Start looping over the passengers, i.e. over I.\n",
    "\n",
    "for I in range(0, X_train.shape[0]): #loop in all the passengers:\n",
    "    \n",
    "    # 1: input the data \n",
    "    x = X_train[I]\n",
    "    \n",
    "    \n",
    "    # 2: Start the algorithm\n",
    "    \n",
    "    # 2.1: Feed forward\n",
    "    z1 = ReLU_act(np.dot(w1, x) + b1) # output layer 1 \n",
    "    z2 = ReLU_act(np.dot(w2, z1) + b2) # output layer 2\n",
    "    y = sigmoid_act(np.dot(wOut, z2) + bOut) # Output of the Output layer\n",
    "    \n",
    "    #2.2: Compute the output layer's error\n",
    "    delta_Out =  (y-Y_train[I]) * sigmoid_act(y, der=True)\n",
    "    \n",
    "    #2.3: Backpropagate\n",
    "    delta_2 = delta_Out * wOut * ReLU_act(z2, der=True) # Second Layer Error\n",
    "    delta_1 = np.dot(delta_2, w2) * ReLU_act(z1, der=True) # First Layer Error\n",
    "    \n",
    "    # 3: Gradient descent \n",
    "    wOut = wOut - eta*delta_Out*z2  # Outer Layer\n",
    "    bOut = bOut - eta*delta_Out\n",
    "    \n",
    "    w2 = w2 - eta*np.kron(delta_2, z1).reshape(q,p) # Hidden Layer 2\n",
    "    b2 = b2 - eta*delta_2\n",
    "    \n",
    "    w1 = w1 - eta*np.kron(delta_1, x).reshape(p, x.shape[0]) # Hidden Layer 1\n",
    "    b1 = b1 - eta*delta_1\n",
    "    \n",
    "    # 4. Computation of the loss function\n",
    "    mu.append((1/2)*(y-Y_train[I])**2)\n",
    "    vec_y.append(y[0])\n",
    "\n",
    "    # Plotting the Cost function for each training data     \n",
    "plt.figure(figsize=(10,6))\n",
    "plt.scatter(np.arange(0, X_train.shape[0]), mu, alpha=0.3, s=4, label='mu')\n",
    "plt.title('Loss for each training data point', fontsize=20)\n",
    "plt.xlabel('Training data', fontsize=16)\n",
    "plt.ylabel('Loss', fontsize=16)\n",
    "plt.show()\n",
    "\n",
    "# Plotting the average cost function over 10 training data    \n",
    "pino = []\n",
    "for i in range(0, 9):\n",
    "    pippo = 0\n",
    "    for m in range(0, 59):\n",
    "        pippo+=vec_y[60*i+m]/60\n",
    "    pino.append(pippo)\n",
    "    \n",
    "    plt.figure(figsize=(10,6))\n",
    "plt.scatter(np.arange(0, 9), pino, alpha=1, s=10, label='error')\n",
    "plt.title('Averege Loss by epoch', fontsize=20)\n",
    "plt.xlabel('Epoch', fontsize=16)\n",
    "plt.ylabel('Loss', fontsize=16)\n",
    "plt.show()"
   ]
  },
  {
   "cell_type": "code",
   "execution_count": 13,
   "metadata": {},
   "outputs": [],
   "source": [
    "def ANN_train(X_train, Y_train, p=4, q=4, eta=0.0015):\n",
    "    import numpy as np\n",
    "    import matplotlib.pyplot as plt\n",
    "    \n",
    "    # 0: Random initialize the relevant data \n",
    "    w1 = 2*np.random.rand(p , X_train.shape[1]) - 0.5 # Layer 1\n",
    "    b1 = np.random.rand(p)\n",
    "\n",
    "    w2 = 2*np.random.rand(q , p) - 0.5  # Layer 2\n",
    "    b2 = np.random.rand(q)\n",
    "\n",
    "    wOut = 2*np.random.rand(q) - 0.5   # Output Layer\n",
    "    bOut = np.random.rand(1)\n",
    "\n",
    "    mu = []\n",
    "    vec_y = []\n",
    "\n",
    "    # Start looping over the passengers, i.e. over I.\n",
    "\n",
    "    for I in range(0, X_train.shape[0]-1): #loop in all the passengers:\n",
    "    \n",
    "        # 1: input the data \n",
    "        x = X_train[I]\n",
    "    \n",
    "        # 2: Start the algorithm\n",
    "    \n",
    "        # 2.1: Feed forward\n",
    "        z1 = ReLU_act(np.dot(w1, x) + b1) # output layer 1 \n",
    "        z2 = ReLU_act(np.dot(w2, z1) + b2) # output layer 2\n",
    "        y = sigmoid_act(np.dot(wOut, z2) + bOut) # Output of the Output layer\n",
    "    \n",
    "        #2.2: Compute the output layer's error\n",
    "        delta_Out = 2 * (y-Y_train[I]) * sigmoid_act(y, der=True)\n",
    "        \n",
    "        #2.3: Backpropagate\n",
    "        delta_2 = delta_Out * wOut * ReLU_act(z2, der=True) # Second Layer Error\n",
    "        delta_1 = np.dot(delta_2, w2) * ReLU_act(z1, der=True) # First Layer Error\n",
    "    \n",
    "        # 3: Gradient descent \n",
    "        wOut = wOut - eta*delta_Out*z2  # Outer Layer\n",
    "        bOut = bOut - eta*delta_Out\n",
    "    \n",
    "        w2 = w2 - eta*np.kron(delta_2, z1).reshape(q,p) # Hidden Layer 2\n",
    "        b2 = b2 -  eta*delta_2\n",
    "    \n",
    "        w1 = w1 - eta*np.kron(delta_1, x).reshape(p, x.shape[0])\n",
    "        b1 = b1 - eta*delta_1\n",
    "    \n",
    "        # 4. Computation of the loss function\n",
    "        mu.append((y-Y_train[I])**2)\n",
    "        vec_y.append(y)\n",
    "        \n",
    "        batch_loss = []\n",
    "    for i in range(0, 10):\n",
    "        loss_avg = 0\n",
    "        for m in range(0, 60):\n",
    "            loss_avg+=vec_y[60*i+m]/60\n",
    "        batch_loss.append(loss_avg)\n",
    "    \n",
    "    \n",
    "    plt.figure(figsize=(10,6))\n",
    "    plt.scatter(np.arange(1, len(batch_loss)+1), batch_loss, alpha=1, s=10, label='error')\n",
    "    plt.title('Averege Loss by epoch', fontsize=20)\n",
    "    plt.xlabel('Epoch', fontsize=16)\n",
    "    plt.ylabel('Loss', fontsize=16)\n",
    "    plt.show()\n",
    "    \n",
    "    return w1, b1, w2, b2, wOut, bOut, mu"
   ]
  },
  {
   "cell_type": "code",
   "execution_count": 14,
   "metadata": {},
   "outputs": [
    {
     "data": {
      "image/png": "[encoded data removed]",
      "text/plain": [
       "<Figure size 720x432 with 1 Axes>"
      ]
     },
     "metadata": {
      "needs_background": "light"
     },
     "output_type": "display_data"
    }
   ],
   "source": [
    "w1, b1, w2, b2, wOut, bOut, mu = ANN_train(X_train, Y_train, p=8, q=4, eta=0.0015)"
   ]
  },
  {
   "cell_type": "code",
   "execution_count": 15,
   "metadata": {},
   "outputs": [],
   "source": [
    "def ANN_pred(X_test, w1, b1, w2, b2, wOut, bOut, mu):\n",
    "    import numpy as np\n",
    "    \n",
    "    pred = []\n",
    "    \n",
    "    for I in range(0, X_test.shape[0]): #loop in all the passengers\n",
    "        # 1: input the data \n",
    "        x = X_test[I]\n",
    "        \n",
    "        # 2.1: Feed forward\n",
    "        z1 = ReLU_act(np.dot(w1, x) + b1) # output layer 1 \n",
    "        z2 = ReLU_act(np.dot(w2, z1) + b2) # output layer 2\n",
    "        y = sigmoid_act(np.dot(wOut, z2) + bOut)  # Output of the Output layer\n",
    "        \n",
    "        # Append the prediction;\n",
    "        # We now need a binary classifier; we this apply an Heaviside Theta and we set to 0.5 the threshold\n",
    "        # if y < 0.5 the output is zero, otherwise is 1\n",
    "        pred.append( np.heaviside(y - 0.5, 1)[0] )\n",
    "    \n",
    "    \n",
    "    return np.array(pred);"
   ]
  },
  {
   "cell_type": "code",
   "execution_count": 16,
   "metadata": {},
   "outputs": [],
   "source": [
    "predictions = ANN_pred(X_test, w1, b1, w2, b2, wOut, bOut, mu)\n"
   ]
  },
  {
   "cell_type": "code",
   "execution_count": 17,
   "metadata": {},
   "outputs": [
    {
     "data": {
      "image/png": "[encoded data removed]",
      "text/plain": [
       "<Figure size 504x504 with 2 Axes>"
      ]
     },
     "metadata": {
      "needs_background": "light"
     },
     "output_type": "display_data"
    }
   ],
   "source": [
    "# Plot the confusion matrix\n",
    "cm = confusion_matrix(Y_test, predictions)\n",
    "\n",
    "df_cm = pd.DataFrame(cm, index = [dict_live[i] for i in range(0,2)], columns = [dict_live[i] for i in range(0,2)])\n",
    "plt.figure(figsize = (7,7))\n",
    "sns.heatmap(df_cm, annot=True, cmap=plt.cm.Blues, fmt='g')\n",
    "plt.xlabel(\"Predicted Class\", fontsize=18)\n",
    "plt.ylabel(\"True Class\", fontsize=18)\n",
    "plt.show()"
   ]
  },
  {
   "cell_type": "code",
   "execution_count": 18,
   "metadata": {},
   "outputs": [
    {
     "data": {
      "text/html": [
       "<div>\n",
       "<style scoped>\n",
       "    .dataframe tbody tr th:only-of-type {\n",
       "        vertical-align: middle;\n",
       "    }\n",
       "\n",
       "    .dataframe tbody tr th {\n",
       "        vertical-align: top;\n",
       "    }\n",
       "\n",
       "    .dataframe thead th {\n",
       "        text-align: right;\n",
       "    }\n",
       "</style>\n",
       "<table border=\"1\" class=\"dataframe\">\n",
       "  <thead>\n",
       "    <tr style=\"text-align: right;\">\n",
       "      <th></th>\n",
       "      <th>PassengerId</th>\n",
       "      <th>Pclass</th>\n",
       "      <th>Name</th>\n",
       "      <th>Sex</th>\n",
       "      <th>Age</th>\n",
       "      <th>SibSp</th>\n",
       "      <th>Parch</th>\n",
       "      <th>Ticket</th>\n",
       "      <th>Fare</th>\n",
       "      <th>Cabin</th>\n",
       "      <th>Embarked</th>\n",
       "    </tr>\n",
       "  </thead>\n",
       "  <tbody>\n",
       "    <tr>\n",
       "      <td>0</td>\n",
       "      <td>892</td>\n",
       "      <td>3</td>\n",
       "      <td>Kelly, Mr. James</td>\n",
       "      <td>male</td>\n",
       "      <td>34.5</td>\n",
       "      <td>0</td>\n",
       "      <td>0</td>\n",
       "      <td>330911</td>\n",
       "      <td>7.8292</td>\n",
       "      <td>NaN</td>\n",
       "      <td>Q</td>\n",
       "    </tr>\n",
       "    <tr>\n",
       "      <td>1</td>\n",
       "      <td>893</td>\n",
       "      <td>3</td>\n",
       "      <td>Wilkes, Mrs. James (Ellen Needs)</td>\n",
       "      <td>female</td>\n",
       "      <td>47.0</td>\n",
       "      <td>1</td>\n",
       "      <td>0</td>\n",
       "      <td>363272</td>\n",
       "      <td>7.0000</td>\n",
       "      <td>NaN</td>\n",
       "      <td>S</td>\n",
       "    </tr>\n",
       "    <tr>\n",
       "      <td>2</td>\n",
       "      <td>894</td>\n",
       "      <td>2</td>\n",
       "      <td>Myles, Mr. Thomas Francis</td>\n",
       "      <td>male</td>\n",
       "      <td>62.0</td>\n",
       "      <td>0</td>\n",
       "      <td>0</td>\n",
       "      <td>240276</td>\n",
       "      <td>9.6875</td>\n",
       "      <td>NaN</td>\n",
       "      <td>Q</td>\n",
       "    </tr>\n",
       "    <tr>\n",
       "      <td>3</td>\n",
       "      <td>895</td>\n",
       "      <td>3</td>\n",
       "      <td>Wirz, Mr. Albert</td>\n",
       "      <td>male</td>\n",
       "      <td>27.0</td>\n",
       "      <td>0</td>\n",
       "      <td>0</td>\n",
       "      <td>315154</td>\n",
       "      <td>8.6625</td>\n",
       "      <td>NaN</td>\n",
       "      <td>S</td>\n",
       "    </tr>\n",
       "  </tbody>\n",
       "</table>\n",
       "</div>"
      ],
      "text/plain": [
       "   PassengerId  Pclass                              Name     Sex   Age  SibSp  \\\n",
       "0          892       3                  Kelly, Mr. James    male  34.5      0   \n",
       "1          893       3  Wilkes, Mrs. James (Ellen Needs)  female  47.0      1   \n",
       "2          894       2         Myles, Mr. Thomas Francis    male  62.0      0   \n",
       "3          895       3                  Wirz, Mr. Albert    male  27.0      0   \n",
       "\n",
       "   Parch  Ticket    Fare Cabin Embarked  \n",
       "0      0  330911  7.8292   NaN        Q  \n",
       "1      0  363272  7.0000   NaN        S  \n",
       "2      0  240276  9.6875   NaN        Q  \n",
       "3      0  315154  8.6625   NaN        S  "
      ]
     },
     "execution_count": 18,
     "metadata": {},
     "output_type": "execute_result"
    }
   ],
   "source": [
    "test_data = pd.read_csv('test.csv')\n",
    "\n",
    "test_data.head(4)"
   ]
  },
  {
   "cell_type": "code",
   "execution_count": 19,
   "metadata": {},
   "outputs": [],
   "source": [
    "# We apply the dictionary using a lambda function and the pandas .apply() module\n",
    "test_data['Bsex'] = test_data['Sex'].apply(lambda x : dict_sex[x])\n",
    "\n",
    "\n",
    "X = test_data[['Pclass', 'Bsex']].to_numpy()\n",
    "\n",
    "test_predictions = ANN_pred(X, w1, b1, w2, b2, wOut, bOut, mu)"
   ]
  },
  {
   "cell_type": "code",
   "execution_count": 21,
   "metadata": {},
   "outputs": [
    {
     "data": {
      "text/html": [
       "<a href='submission.csv' target='_blank'>submission.csv</a><br>"
      ],
      "text/plain": [
       "C:\\Users\\DELL\\submission.csv"
      ]
     },
     "execution_count": 21,
     "metadata": {},
     "output_type": "execute_result"
    }
   ],
   "source": [
    "submission = pd.DataFrame({\n",
    "        \"PassengerId\": test_data[\"PassengerId\"],\n",
    "        \"Survived\": test_predictions\n",
    "    })\n",
    "\n",
    "submission.head(5)\n",
    "\n",
    "# Export it in a 'Comma Separated Values' (CSV) file\n",
    "import os\n",
    "#os.chdir(r'../working')\n",
    "submission.to_csv(r'submission.csv', index=False)\n",
    "# Creating a link to download the .csv file we created\n",
    "from IPython.display import FileLink\n",
    "FileLink(r'submission.csv')"
   ]
  },
  {
   "cell_type": "code",
   "execution_count": 23,
   "metadata": {},
   "outputs": [
    {
     "ename": "IndentationError",
     "evalue": "unindent does not match any outer indentation level (<tokenize>, line 71)",
     "output_type": "error",
     "traceback": [
      "\u001b[1;36m  File \u001b[1;32m\"<tokenize>\"\u001b[1;36m, line \u001b[1;32m71\u001b[0m\n\u001b[1;33m    '''\u001b[0m\n\u001b[1;37m    ^\u001b[0m\n\u001b[1;31mIndentationError\u001b[0m\u001b[1;31m:\u001b[0m unindent does not match any outer indentation level\n"
     ]
    }
   ],
   "source": []
  },
  {
   "cell_type": "code",
   "execution_count": 24,
   "metadata": {},
   "outputs": [],
   "source": [
    "'''\n",
    "Artificial Neural Network Class\n",
    "'''\n",
    "class ANN:\n",
    "    import numpy as np # linear algebra\n",
    "    np.random.seed(10)\n",
    "    \n",
    "    '''\n",
    "    Initialize the ANN;\n",
    "    HiddenLayer vector : will contain the Layers' info\n",
    "    w, b, phi = (empty) arrays that will contain all the w, b and activation functions for all the Layers\n",
    "    mu = cost function\n",
    "    eta = a standard learning rate initialization. It can be modified by the 'set_learning_rate' method\n",
    "    '''\n",
    "    def __init__(self) :\n",
    "        self.HiddenLayer = []\n",
    "        self.w = []\n",
    "        self.b = []\n",
    "        self.phi = []\n",
    "        self.mu = []\n",
    "        self.eta = 1 #set up the proper Learning Rate!!\n",
    "    \n",
    "    '''\n",
    "    add method: to add layers to the network\n",
    "    '''\n",
    "    def add(self, lay = (4, 'ReLU') ):\n",
    "        self.HiddenLayer.append(lay)\n",
    "    \n",
    "    '''\n",
    "    FeedForward method: as explained before. \n",
    "    '''\n",
    "    @staticmethod\n",
    "    def FeedForward(w, b, phi, x):\n",
    "        return phi(np.dot(w, x) + b)\n",
    "        \n",
    "    '''\n",
    "    BackPropagation algorithm implementing the Gradient Descent \n",
    "    '''\n",
    "    def BackPropagation(self, x, z, Y, w, b, phi):\n",
    "        self.delta = []\n",
    "        \n",
    "        # We initialize ausiliar w and b that are used only inside the backpropagation algorithm once called        \n",
    "        self.W = []\n",
    "        self.B = []\n",
    "        \n",
    "        # We start computing the LAST error, the one for the OutPut Layer \n",
    "        self.delta.append(  (z[len(z)-1] - Y) * phi[len(z)-1](z[len(z)-1], der=True) )\n",
    "        \n",
    "        '''Now we BACKpropagate'''\n",
    "        # We thus compute from next-to-last to first\n",
    "        for i in range(0, len(z)-1):\n",
    "            self.delta.append( np.dot( self.delta[i], w[len(z)- 1 - i] ) * phi[len(z)- 2 - i](z[len(z)- 2 - i], der=True) )\n",
    "        \n",
    "        # We have the error array ordered from last to first; we flip it to order it from first to last\n",
    "        self.delta = np.flip(self.delta, 0)  \n",
    "        \n",
    "        # Now we define the delta as the error divided by the number of training samples\n",
    "        self.delta = self.delta/self.X.shape[0] \n",
    "        \n",
    "        '''GRADIENT DESCENT'''\n",
    "        # We start from the first layer that is special, since it is connected to the Input Layer\n",
    "        self.W.append( w[0] - self.eta * np.kron(self.delta[0], x).reshape( len(z[0]), x.shape[0] ) )\n",
    "        self.B.append( b[0] - self.eta * self.delta[0] )\n",
    "        \n",
    "        # We now descend for all the other Hidden Layers + OutPut Layer\n",
    "        for i in range(1, len(z)):\n",
    "            self.W.append( w[i] - self.eta * np.kron(self.delta[i], z[i-1]).reshape(len(z[i]), len(z[i-1])) )\n",
    "            self.B.append( b[i] - self.eta * self.delta[i] )\n",
    "        \n",
    "        # We return the descended parameters w, b\n",
    "        return np.array(self.W), np.array(self.B)\n",
    "    \n",
    "    \n",
    "    '''\n",
    "    Fit method: it calls FeedForward and Backpropagation methods\n",
    "    '''\n",
    "    def Fit(self, X_train, Y_train):            \n",
    "        print('Start fitting...')\n",
    "        '''\n",
    "        Input layer\n",
    "        '''\n",
    "        self.X = X_train\n",
    "        self.Y = Y_train\n",
    "        \n",
    "        '''\n",
    "        We now initialize the Network by retrieving the Hidden Layers and concatenating them \n",
    "        '''\n",
    "        print('Model recap: \\n')\n",
    "        print('You are fitting an ANN with the following amount of layers: ', len(self.HiddenLayer))\n",
    "        \n",
    "        for i in range(0, len(self.HiddenLayer)) :\n",
    "            print('Layer ', i+1)\n",
    "            print('Number of neurons: ', self.HiddenLayer[i][0])\n",
    "            if i==0:\n",
    "                # We now try to use the He et al. Initialization from ArXiv:1502.01852\n",
    "                self.w.append( np.random.randn(self.HiddenLayer[i][0] , self.X.shape[1])/np.sqrt(2/self.X.shape[1]) )\n",
    "                self.b.append( np.random.randn(self.HiddenLayer[i][0])/np.sqrt(2/self.X.shape[1]))\n",
    "                # Old initialization\n",
    "                #self.w.append(2 * np.random.rand(self.HiddenLayer[i][0] , self.X.shape[1]) - 0.5)\n",
    "                #self.b.append(np.random.rand(self.HiddenLayer[i][0]))\n",
    "                \n",
    "                # Initialize the Activation function\n",
    "                for act in Activation_function.list_act():\n",
    "                    if self.HiddenLayer[i][1] == act :\n",
    "                        self.phi.append(Activation_function.get_act(act))\n",
    "                        print('\\tActivation: ', act)\n",
    "\n",
    "            else :\n",
    "                # We now try to use the He et al. Initialization from ArXiv:1502.01852\n",
    "                self.w.append( np.random.randn(self.HiddenLayer[i][0] , self.HiddenLayer[i-1][0] )/np.sqrt(2/self.HiddenLayer[i-1][0]))\n",
    "                self.b.append( np.random.randn(self.HiddenLayer[i][0])/np.sqrt(2/self.HiddenLayer[i-1][0]))\n",
    "                # Old initialization\n",
    "                #self.w.append(2*np.random.rand(self.HiddenLayer[i][0] , self.HiddenLayer[i-1][0] ) - 0.5)\n",
    "                #self.b.append(np.random.rand(self.HiddenLayer[i][0]))\n",
    "                \n",
    "                # Initialize the Activation function\n",
    "                for act in Activation_function.list_act():\n",
    "                    if self.HiddenLayer[i][1] == act :\n",
    "                        self.phi.append(Activation_function.get_act(act))\n",
    "                        print('\\tActivation: ', act)\n",
    "            \n",
    "        '''\n",
    "        Now we start the Loop over the training dataset\n",
    "        '''  \n",
    "        for I in range(0, self.X.shape[0]): # loop over the training set\n",
    "            '''\n",
    "            Now we start the feed forward\n",
    "            '''  \n",
    "            self.z = []\n",
    "            \n",
    "            self.z.append( self.FeedForward(self.w[0], self.b[0], self.phi[0], self.X[I]) ) # First layers\n",
    "            \n",
    "            for i in range(1, len(self.HiddenLayer)): #Looping over layers\n",
    "                self.z.append( self.FeedForward(self.w[i] , self.b[i], self.phi[i], self.z[i-1] ) )\n",
    "        \n",
    "            \n",
    "            '''\n",
    "            Here we backpropagate\n",
    "            '''      \n",
    "            self.w, self.b  = self.BackPropagation(self.X[I], self.z, self.Y[I], self.w, self.b, self.phi)\n",
    "            \n",
    "            '''\n",
    "            Compute cost function\n",
    "            ''' \n",
    "            self.mu.append(\n",
    "                (1/2) * np.dot(self.z[len(self.z)-1] - self.Y[I], self.z[len(self.z)-1] - self.Y[I]) \n",
    "            )\n",
    "            \n",
    "        print('Fit done. \\n')\n",
    "        \n",
    "\n",
    "    \n",
    "    '''\n",
    "    predict method\n",
    "    '''\n",
    "    def predict(self, X_test):\n",
    "        \n",
    "        print('Starting predictions...')\n",
    "        \n",
    "        self.pred = []\n",
    "        self.XX = X_test\n",
    "        \n",
    "        for I in range(0, self.XX.shape[0]): # loop over the training set\n",
    "            \n",
    "            '''\n",
    "            Now we start the feed forward\n",
    "            '''  \n",
    "            self.z = []\n",
    "            \n",
    "            self.z.append(self.FeedForward(self.w[0] , self.b[0], self.phi[0], self.XX[I])) #First layer\n",
    "    \n",
    "            for i in range(1, len(self.HiddenLayer)) : # loop over the layers\n",
    "                self.z.append( self.FeedForward(self.w[i] , self.b[i], self.phi[i], self.z[i-1]))\n",
    "       \n",
    "            # Append the prediction;\n",
    "            # We now need a binary classifier; we this apply an Heaviside Theta and we set to 0.5 the threshold\n",
    "            # if y < 0.5 the output is zero, otherwise is zero\n",
    "            self.pred.append( np.heaviside(  self.z[-1] - 0.5, 1)[0] ) # NB: self.z[-1]  is the last element of the self.z list\n",
    "        \n",
    "        print('Predictions done. \\n')\n",
    "\n",
    "        return np.array(self.pred)\n",
    "   \n",
    "    '''\n",
    "    We need a method to retrieve the accuracy for each training data to follow the learning of the ANN\n",
    "    '''\n",
    "    def get_accuracy(self):\n",
    "        return np.array(self.mu)\n",
    "    # This is the averaged version\n",
    "    def get_avg_accuracy(self):\n",
    "        import math\n",
    "        self.batch_loss = []\n",
    "        for i in range(0, 10):\n",
    "            self.loss_avg = 0\n",
    "            # To set the batch in 10 element/batch we use math.ceil method\n",
    "            # int(math.ceil((self.X.shape[0]-10) / 10.0))    - 1\n",
    "            for m in range(0, (int(math.ceil((self.X.shape[0]-10) / 10.0))   )-1):\n",
    "                #self.loss_avg += self.mu[60*i+m]/60\n",
    "                self.loss_avg += self.mu[(int(math.ceil((self.X.shape[0]-10) / 10.0)) )*i + m]/(int(math.ceil((self.X.shape[0]-10) / 10.0)) )\n",
    "            self.batch_loss.append(self.loss_avg)\n",
    "        return np.array(self.batch_loss)\n",
    "    \n",
    "    '''\n",
    "    Method to set the learning rate\n",
    "    '''\n",
    "    def set_learning_rate(self, et=1):\n",
    "        self.eta = et\n",
    "        \n",
    "        \n",
    "'''\n",
    "layers class\n",
    "'''\n",
    "class layers :\n",
    "    '''\n",
    "    Layer method: used to call standar layers to add. \n",
    "    Easily generalizable to more general layers (Pooling and Convolutional layers)\n",
    "    '''        \n",
    "    def layer(p=4, activation = 'ReLU'):\n",
    "        return (p, activation)\n",
    "\n",
    "'''\n",
    "Activation functions class\n",
    "'''\n",
    "class Activation_function(ANN):\n",
    "    import numpy as np\n",
    "    \n",
    "    def __init__(self) :\n",
    "        super().__init__()\n",
    "        \n",
    "    '''\n",
    "    Define the sigmoid activator; we ask if we want the sigmoid or its derivative\n",
    "    '''\n",
    "    def sigmoid_act(x, der=False):\n",
    "        if (der==True) : #derivative of the sigmoid\n",
    "            f = 1/(1+ np.exp(- x))*(1-1/(1+ np.exp(- x)))\n",
    "        else : # sigmoid\n",
    "            f = 1/(1+ np.exp(- x))\n",
    "        return f\n",
    "\n",
    "    '''\n",
    "    Define the Rectifier Linear Unit (ReLU)\n",
    "    '''\n",
    "    def ReLU_act(x, der=False):\n",
    "        if (der == True): # the derivative of the ReLU is the Heaviside Theta\n",
    "            f = np.heaviside(x, 1)\n",
    "        else :\n",
    "            f = np.maximum(x, 0)\n",
    "        return f\n",
    "    \n",
    "    def list_act():\n",
    "        return ['sigmoid', 'ReLU']\n",
    "    \n",
    "    def get_act(string = 'ReLU'):\n",
    "        if string == 'ReLU':\n",
    "            return ReLU_act\n",
    "        elif string == 'sigmoid':\n",
    "            return sigmoid_act\n",
    "        else :\n",
    "            return sigmoid_act"
   ]
  },
  {
   "cell_type": "code",
   "execution_count": 25,
   "metadata": {},
   "outputs": [
    {
     "name": "stdout",
     "output_type": "stream",
     "text": [
      "Start fitting...\n",
      "Model recap: \n",
      "\n",
      "You are fitting an ANN with the following amount of layers:  3\n",
      "Layer  1\n",
      "Number of neurons:  8\n",
      "\tActivation:  ReLU\n",
      "Layer  2\n",
      "Number of neurons:  4\n",
      "\tActivation:  ReLU\n",
      "Layer  3\n",
      "Number of neurons:  1\n",
      "\tActivation:  sigmoid\n",
      "Fit done. \n",
      "\n",
      "Starting predictions...\n",
      "Predictions done. \n",
      "\n"
     ]
    }
   ],
   "source": [
    "model = ANN()\n",
    "\n",
    "model.add(layers.layer(8, 'ReLU'))\n",
    "model.add(layers.layer(4, 'ReLU'))\n",
    "model.add(layers.layer(1, 'sigmoid'))\n",
    "\n",
    "model.set_learning_rate(0.8)\n",
    "\n",
    "model.Fit(X_train, Y_train)\n",
    "acc_val = model.get_accuracy()\n",
    "acc_avg_val = model.get_avg_accuracy()\n",
    "\n",
    "predictions = model.predict(X_test)"
   ]
  },
  {
   "cell_type": "code",
   "execution_count": 26,
   "metadata": {},
   "outputs": [
    {
     "data": {
      "image/png": "[encoded data removed]",
      "text/plain": [
       "<Figure size 720x432 with 1 Axes>"
      ]
     },
     "metadata": {
      "needs_background": "light"
     },
     "output_type": "display_data"
    },
    {
     "data": {
      "image/png": "[encoded data removed]",
      "text/plain": [
       "<Figure size 720x432 with 1 Axes>"
      ]
     },
     "metadata": {
      "needs_background": "light"
     },
     "output_type": "display_data"
    }
   ],
   "source": [
    "plt.figure(figsize=(10,6))\n",
    "plt.scatter(np.arange(1, X_train.shape[0]+1), acc_val, alpha=0.3, s=4, label='mu')\n",
    "plt.title('Loss for each training data point', fontsize=20)\n",
    "plt.xlabel('Training data', fontsize=16)\n",
    "plt.ylabel('Loss', fontsize=16)\n",
    "plt.show()\n",
    "\n",
    "plt.figure(figsize=(10,6))\n",
    "plt.scatter(np.arange(1, len(acc_avg_val)+1), acc_avg_val, label='mu')\n",
    "plt.title('Averege Loss by epoch', fontsize=20)\n",
    "plt.xlabel('Training data', fontsize=16)\n",
    "plt.ylabel('Loss', fontsize=16)\n",
    "plt.show()"
   ]
  },
  {
   "cell_type": "code",
   "execution_count": 27,
   "metadata": {},
   "outputs": [
    {
     "data": {
      "image/png": "[encoded data removed]",
      "text/plain": [
       "<Figure size 504x504 with 2 Axes>"
      ]
     },
     "metadata": {
      "needs_background": "light"
     },
     "output_type": "display_data"
    }
   ],
   "source": [
    "# Plot the confusion matrix\n",
    "cm = confusion_matrix(Y_test, predictions)\n",
    "\n",
    "df_cm = pd.DataFrame(cm, index = [dict_live[i] for i in range(0,2)], columns = [dict_live[i] for i in range(0,2)])\n",
    "plt.figure(figsize = (7,7))\n",
    "sns.heatmap(df_cm, annot=True, cmap=plt.cm.Blues, fmt='g')\n",
    "plt.xlabel(\"Predicted Class\", fontsize=18)\n",
    "plt.ylabel(\"True Class\", fontsize=18)\n",
    "plt.show()"
   ]
  },
  {
   "cell_type": "code",
   "execution_count": 28,
   "metadata": {},
   "outputs": [
    {
     "name": "stdout",
     "output_type": "stream",
     "text": [
      "Start fitting...\n",
      "Model recap: \n",
      "\n",
      "You are fitting an ANN with the following amount of layers:  4\n",
      "Layer  1\n",
      "Number of neurons:  24\n",
      "\tActivation:  ReLU\n",
      "Layer  2\n",
      "Number of neurons:  12\n",
      "\tActivation:  sigmoid\n",
      "Layer  3\n",
      "Number of neurons:  6\n",
      "\tActivation:  ReLU\n",
      "Layer  4\n",
      "Number of neurons:  1\n",
      "\tActivation:  sigmoid\n",
      "Fit done. \n",
      "\n"
     ]
    },
    {
     "data": {
      "image/png": "[encoded data removed]",
      "text/plain": [
       "<Figure size 720x432 with 1 Axes>"
      ]
     },
     "metadata": {
      "needs_background": "light"
     },
     "output_type": "display_data"
    },
    {
     "name": "stdout",
     "output_type": "stream",
     "text": [
      "Starting predictions...\n",
      "Predictions done. \n",
      "\n"
     ]
    },
    {
     "data": {
      "image/png": "[encoded data removed]",
      "text/plain": [
       "<Figure size 504x504 with 2 Axes>"
      ]
     },
     "metadata": {
      "needs_background": "light"
     },
     "output_type": "display_data"
    }
   ],
   "source": [
    "model = ANN()\n",
    "\n",
    "model.add(layers.layer(24, 'ReLU'))\n",
    "model.add(layers.layer(12, 'sigmoid'))\n",
    "model.add(layers.layer(6, 'ReLU'))\n",
    "model.add(layers.layer(1, 'sigmoid'))\n",
    "\n",
    "model.set_learning_rate(0.8)\n",
    "\n",
    "model.Fit(X_train, Y_train)\n",
    "acc_val = model.get_accuracy()\n",
    "acc_avg_val = model.get_avg_accuracy()\n",
    "\n",
    "plt.figure(figsize=(10,6))\n",
    "plt.scatter(np.arange(1, len(acc_avg_val)+1), acc_avg_val, label='mu')\n",
    "plt.title('Averege Loss by epoch', fontsize=20)\n",
    "plt.xlabel('Training data', fontsize=16)\n",
    "plt.ylabel('Loss', fontsize=16)\n",
    "plt.show()\n",
    "\n",
    "predictions = model.predict(X_test)\n",
    "\n",
    "# Plot the confusion matrix\n",
    "cm = confusion_matrix(Y_test, predictions)\n",
    "\n",
    "df_cm = pd.DataFrame(cm, index = [dict_live[i] for i in range(0,2)], columns = [dict_live[i] for i in range(0,2)])\n",
    "plt.figure(figsize = (7,7))\n",
    "sns.heatmap(df_cm, annot=True, cmap=plt.cm.Blues, fmt='g')\n",
    "plt.xlabel(\"Predicted Class\", fontsize=18)\n",
    "plt.ylabel(\"True Class\", fontsize=18)\n",
    "plt.show()"
   ]
  },
  {
   "cell_type": "code",
   "execution_count": null,
   "metadata": {},
   "outputs": [],
   "source": []
  }
 ],
 "metadata": {
  "kernelspec": {
   "display_name": "Python 3",
   "language": "python",
   "name": "python3"
  },
  "language_info": {
   "codemirror_mode": {
    "name": "ipython",
    "version": 3
   },
   "file_extension": ".py",
   "mimetype": "text/x-python",
   "name": "python",
   "nbconvert_exporter": "python",
   "pygments_lexer": "ipython3",
   "version": "3.7.4"
  }
 },
 "nbformat": 4,
 "nbformat_minor": 2
}
